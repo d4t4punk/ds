{
 "cells": [
  {
   "cell_type": "markdown",
   "id": "db2066d1-ca9c-45b5-bde3-b44df810b08e",
   "metadata": {},
   "source": [
    "# Data Science Tools and Ecosystem\n"
   ]
  },
  {
   "cell_type": "markdown",
   "id": "555c1c92-4ebb-47aa-ba94-19603c3354b8",
   "metadata": {},
   "source": [
    "In this notebook, Data Science Tools and Ecosystem are summarized."
   ]
  },
  {
   "cell_type": "markdown",
   "id": "8c023f3f-9c2b-4827-868f-484f8cb99f99",
   "metadata": {},
   "source": [
    "**Objectives:**\n",
    "- Understand popular data science languages\n",
    "- Understand common libraries used in data science\n",
    "- List popular languages for Data Science"
   ]
  },
  {
   "cell_type": "markdown",
   "id": "32fd175a-0c53-4415-8b07-605ceb8dd2a1",
   "metadata": {},
   "source": [
    "Some of the popular languages that Data Scientists use are:\n",
    "1. Python\n",
    "2. R\n",
    "3. SAS\n",
    "4. SQL"
   ]
  },
  {
   "cell_type": "markdown",
   "id": "d68a664d-f757-4fc8-863c-696e3d19f927",
   "metadata": {},
   "source": [
    "Some of the commonly used libraries used by Data Scientists include:\n",
    "1. Pandas\n",
    "2. MatPlotLib\n",
    "3. SciKit\n",
    "4. NumPy"
   ]
  },
  {
   "cell_type": "markdown",
   "id": "76d2c3d2-ad12-4cf2-bb2e-0a931239c6e1",
   "metadata": {},
   "source": [
    "| Data Science Tools |\n",
    "|--------------------|\n",
    "|Visual Studio Code|\n",
    "|Anaconda|\n",
    "|Jupyter Notebooks|\n"
   ]
  },
  {
   "cell_type": "markdown",
   "id": "31cacd0a-bbe7-4e9d-80b9-f46686b46d44",
   "metadata": {},
   "source": [
    "### Below are a few examples of evaluating arithmetic expressions in Python"
   ]
  },
  {
   "cell_type": "code",
   "execution_count": 8,
   "id": "72b02173-7808-4923-92fe-4d57e481c565",
   "metadata": {},
   "outputs": [
    {
     "data": {
      "text/plain": [
       "17"
      ]
     },
     "execution_count": 8,
     "metadata": {},
     "output_type": "execute_result"
    }
   ],
   "source": [
    "# This a simple arithmetic expression to mutiply then add integers\n",
    "(3*4)+5"
   ]
  },
  {
   "cell_type": "code",
   "execution_count": 10,
   "id": "ca3d9966-7337-4c53-87ce-984fb1a623bf",
   "metadata": {},
   "outputs": [
    {
     "data": {
      "text/plain": [
       "3.3333333333333335"
      ]
     },
     "execution_count": 10,
     "metadata": {},
     "output_type": "execute_result"
    }
   ],
   "source": [
    "# This will convert 200 minutes to hours by diving by 60\n",
    "200/60"
   ]
  },
  {
   "cell_type": "markdown",
   "id": "a974ab72-d631-4ce1-ae66-854e4bda1518",
   "metadata": {},
   "source": [
    "## Author\n",
    "Scott Newby"
   ]
  }
 ],
 "metadata": {
  "kernelspec": {
   "display_name": "Python 3 (ipykernel)",
   "language": "python",
   "name": "python3"
  },
  "language_info": {
   "codemirror_mode": {
    "name": "ipython",
    "version": 3
   },
   "file_extension": ".py",
   "mimetype": "text/x-python",
   "name": "python",
   "nbconvert_exporter": "python",
   "pygments_lexer": "ipython3",
   "version": "3.11.7"
  }
 },
 "nbformat": 4,
 "nbformat_minor": 5
}
